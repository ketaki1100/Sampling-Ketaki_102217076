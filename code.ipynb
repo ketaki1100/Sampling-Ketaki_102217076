{
  "cells": [
    {
      "cell_type": "markdown",
      "metadata": {
        "colab_type": "text",
        "id": "view-in-github"
      },
      "source": [
        "<a href=\"https://colab.research.google.com/github/Aksh444/Assignment-Sampling/blob/main/Untitled.ipynb\" target=\"_parent\"><img src=\"https://colab.research.google.com/assets/colab-badge.svg\" alt=\"Open In Colab\"/></a>"
      ]
    },
    {
      "cell_type": "code",
      "execution_count": 3,
      "metadata": {
        "colab": {
          "base_uri": "https://localhost:8080/"
        },
        "id": "wQOR4rwGKjFA",
        "outputId": "2ab0e381-e00f-490f-a37b-1e0388fcfe78"
      },
      "outputs": [
        {
          "name": "stdout",
          "output_type": "stream",
          "text": [
            "Class\n",
            "0    763\n",
            "1      9\n",
            "Name: count, dtype: int64\n",
            "    Sampling1  Sampling2  Sampling3  Sampling4  Sampling5\n",
            "M1   0.852459   0.967213   0.852459   0.885246   0.901639\n",
            "M2   0.950820   1.000000   1.000000   1.000000   0.983607\n",
            "M3   0.950820   0.918033   0.983607   0.983607   0.950820\n",
            "M4   0.950820   0.983607   0.934426   0.967213   0.918033\n",
            "M5   0.819672   0.901639   0.819672   0.901639   0.852459\n"
          ]
        }
      ],
      "source": [
        "import pandas as pd\n",
        "import numpy as np\n",
        "from sklearn.model_selection import train_test_split\n",
        "from sklearn.ensemble import RandomForestClassifier, GradientBoostingClassifier\n",
        "from sklearn.linear_model import LogisticRegression\n",
        "from sklearn.svm import SVC\n",
        "from sklearn.neighbors import KNeighborsClassifier\n",
        "from sklearn.metrics import accuracy_score\n",
        "from imblearn.over_sampling import SMOTE\n",
        "from sklearn.preprocessing import StandardScaler\n",
        "\n",
        "# Load dataset\n",
        "df = pd.read_csv('Creditcard_data.csv')\n",
        "\n",
        "# Check class distribution\n",
        "print(df['Class'].value_counts())\n",
        "\n",
        "# Balance dataset using SMOTE\n",
        "X = df.drop(columns=['Class'])\n",
        "y = df['Class']\n",
        "smote = SMOTE(random_state=42)\n",
        "X_balanced, y_balanced = smote.fit_resample(X, y)\n",
        "\n",
        "# Scale features\n",
        "scaler = StandardScaler()\n",
        "X_balanced = scaler.fit_transform(X_balanced)\n",
        "\n",
        "# Define sample size (Assume a fixed proportion for now)\n",
        "sample_size = int(0.2 * len(X_balanced))\n",
        "\n",
        "# Create five different samples\n",
        "samples = [pd.DataFrame(X_balanced).sample(n=sample_size, random_state=i) for i in range(5)]\n",
        "labels = [y_balanced.loc[sample.index] for sample in samples]\n",
        "\n",
        "# Define five sampling techniques (examples: random, stratified, systematic, etc.)\n",
        "def sampling_technique1(X, y): return X, y  # Example: No modification\n",
        "def sampling_technique2(X, y): return X.sample(frac=0.8, random_state=1), y.sample(frac=0.8, random_state=1)\n",
        "def sampling_technique3(X, y): return X.iloc[::2], y.iloc[::2]  # Example: Systematic Sampling\n",
        "def sampling_technique4(X, y): return X.sample(n=int(0.5 * len(X)), random_state=4), y.sample(n=int(0.5 * len(y)), random_state=4)\n",
        "def sampling_technique5(X, y): return X.sample(n=int(0.7 * len(X)), random_state=5), y.sample(n=int(0.7 * len(y)), random_state=5)\n",
        "\n",
        "sampling_functions = [sampling_technique1, sampling_technique2, sampling_technique3, sampling_technique4, sampling_technique5]\n",
        "\n",
        "# Define models\n",
        "models = [\n",
        "    LogisticRegression(max_iter=500),\n",
        "    RandomForestClassifier(),\n",
        "    GradientBoostingClassifier(),\n",
        "    SVC(),\n",
        "    KNeighborsClassifier()\n",
        "]\n",
        "\n",
        "# Train models and store accuracy results\n",
        "results = np.zeros((5, 5))  # 5 models x 5 sampling techniques\n",
        "\n",
        "for i, model in enumerate(models):\n",
        "    for j, (sample_X, sample_y) in enumerate(zip(samples, labels)):\n",
        "        X_train, X_test, y_train, y_test = train_test_split(sample_X, sample_y, test_size=0.2, random_state=42)\n",
        "        model.fit(X_train, y_train)\n",
        "        y_pred = model.predict(X_test)\n",
        "        results[i, j] = accuracy_score(y_test, y_pred)\n",
        "\n",
        "# Convert results to DataFrame\n",
        "accuracy_df = pd.DataFrame(results, columns=[\"Sampling1\", \"Sampling2\", \"Sampling3\", \"Sampling4\", \"Sampling5\"],\n",
        "                            index=[\"M1\", \"M2\", \"M3\", \"M4\", \"M5\"])\n",
        "print(accuracy_df)\n",
        "\n",
        "accuracy_df.to_csv('./result.csv')\n"
      ]
    },
    {
      "cell_type": "code",
      "execution_count": 4,
      "metadata": {
        "colab": {
          "base_uri": "https://localhost:8080/"
        },
        "id": "uXCGRg8QMFoE",
        "outputId": "ac42c36b-7bc9-404e-f42a-4b7732dccb5d"
      },
      "outputs": [
        {
          "name": "stdout",
          "output_type": "stream",
          "text": [
            "\n",
            "Best sampling technique for each model:\n",
            "M1    Sampling2\n",
            "M2    Sampling3\n",
            "M3    Sampling3\n",
            "M4    Sampling2\n",
            "M5    Sampling2\n",
            "dtype: object\n"
          ]
        }
      ],
      "source": [
        "# Determine best sampling technique for each model\n",
        "best_sampling = accuracy_df.idxmax(axis=1)\n",
        "print(\"\\nBest sampling technique for each model:\")\n",
        "print(best_sampling)\n"
      ]
    }
  ],
  "metadata": {
    "colab": {
      "authorship_tag": "ABX9TyNglmLb6dsZ08HnCu0mG4Wi",
      "include_colab_link": true,
      "provenance": []
    },
    "kernelspec": {
      "display_name": "Python 3",
      "name": "python3"
    },
    "language_info": {
      "codemirror_mode": {
        "name": "ipython",
        "version": 3
      },
      "file_extension": ".py",
      "mimetype": "text/x-python",
      "name": "python",
      "nbconvert_exporter": "python",
      "pygments_lexer": "ipython3",
      "version": "3.10.0"
    }
  },
  "nbformat": 4,
  "nbformat_minor": 0
}
